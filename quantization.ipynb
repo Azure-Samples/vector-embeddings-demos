{
 "cells": [
  {
   "cell_type": "markdown",
   "metadata": {},
   "source": [
    "## Vector quantization\n",
    "\n",
    "Most vector embeddings are stored as floating point numbers (64-bit in Python). We can use **quantization** to reduce the size of the embeddings."
   ]
  },
  {
   "cell_type": "code",
   "execution_count": 1,
   "metadata": {},
   "outputs": [
    {
     "data": {
      "text/plain": [
       "[-0.0039056178648024797,\n",
       " 0.019039113074541092,\n",
       " 0.004666934721171856,\n",
       " 0.003809679765254259,\n",
       " -0.012193450704216957,\n",
       " -0.02396601065993309,\n",
       " -0.028496775776147842,\n",
       " 0.02036368101835251,\n",
       " -0.04020743817090988,\n",
       " -0.0006201174110174179]"
      ]
     },
     "execution_count": 1,
     "metadata": {},
     "output_type": "execute_result"
    }
   ],
   "source": [
    "# Load in the vectors from movies.json, {movie: [vector]}\n",
    "import json\n",
    "\n",
    "with open('embeddings/movies_text-embedding-3-small-1536.json') as f:\n",
    "    movies = json.load(f)\n",
    "\n",
    "movies['The Little Mermaid'][0:10]"
   ]
  },
  {
   "cell_type": "markdown",
   "metadata": {},
   "source": [
    "## Scalar quantization\n"
   ]
  },
  {
   "cell_type": "code",
   "execution_count": 2,
   "metadata": {},
   "outputs": [
    {
     "name": "stdout",
     "output_type": "stream",
     "text": [
      "[29, 44, 35, 34, 24, 16, 13, 45, 6, 31]\n"
     ]
    }
   ],
   "source": [
    "def scalar_quantization(embeddings: list[list[float]], num_levels=256, min_level=-128, max_level=127):\n",
    "    # Flatten the embeddings to find the global min and max\n",
    "    flattened_embeddings = [\n",
    "        number for embedding in embeddings for number in embedding\n",
    "    ]\n",
    "    min_val = min(flattened_embeddings)\n",
    "    max_val = max(flattened_embeddings)\n",
    "    \n",
    "    # Normalize the embeddings to [0, 1]\n",
    "    normalized_embeddings = [\n",
    "        [(number - min_val) / (max_val - min_val) for number in embedding]\n",
    "        for embedding in embeddings\n",
    "    ]\n",
    "    \n",
    "    # Quantize the normalized values to the specified number of levels\n",
    "    quantized_embeddings = [\n",
    "        [int(round(number * (num_levels - 1)) * (max_level - min_level) / (num_levels - 1) + min_level)\n",
    "        for number in embedding]\n",
    "        for embedding in normalized_embeddings\n",
    "    ]\n",
    "    \n",
    "    return quantized_embeddings\n",
    "\n",
    "quantized_embeddings = scalar_quantization(list(movies.values()))\n",
    "movies_1byte = {\n",
    "    movie: quantized_embedding\n",
    "    for movie, quantized_embedding in zip(movies.keys(), quantized_embeddings)\n",
    "}\n",
    "\n",
    "# Check the first 10 bytes of the quantized vector for 'Moana'\n",
    "print(movies_1byte['The Little Mermaid'][0:10])"
   ]
  },
  {
   "cell_type": "code",
   "execution_count": null,
   "metadata": {},
   "outputs": [],
   "source": [
    "import matplotlib.pyplot as plt\n",
    "\n",
    "\n",
    "def render_vector(vector, filename):\n",
    "    \"\"\"Visualize the values of the vector in a bar chart\"\"\"\n",
    "    fig = plt.figure()\n",
    "    ax = fig.add_subplot(111)\n",
    "    # Set the face color of the axis (plot area) to light gray\n",
    "    ax.set_facecolor('#f8e7ff')\n",
    "    # Make sure the figure face color is transparent\n",
    "    fig.patch.set_alpha(0.0)\n",
    "    ax.bar(range(len(vector)), vector, color='purple')  # Set bar color to purple\n",
    "    ax.set_xlabel('Dimension', fontweight='bold')  # Make x-axis label bold\n",
    "    ax.set_ylabel('Value', fontweight='bold')  # Make y-axis label bold\n",
    "    # Adjust the height of the graph\n",
    "    fig.set_size_inches(fig.get_size_inches()[0], 3)\n",
    "    plt.show()\n",
    "    fig.savefig(filename, transparent=False, dpi=300, bbox_inches='tight')\n"
   ]
  },
  {
   "cell_type": "code",
   "execution_count": 23,
   "metadata": {},
   "outputs": [
    {
     "data": {
      "image/png": "[encoded data removed]",
      "text/plain": [
       "<Figure size 640x300 with 1 Axes>"
      ]
     },
     "metadata": {
      "needs_background": "light"
     },
     "output_type": "display_data"
    }
   ],
   "source": [
    "render_vector(movies['Moana'], 'quant_none.png')"
   ]
  },
  {
   "cell_type": "code",
   "execution_count": 24,
   "metadata": {},
   "outputs": [
    {
     "data": {
      "image/png": "[encoded data removed]",
      "text/plain": [
       "<Figure size 640x300 with 1 Axes>"
      ]
     },
     "metadata": {
      "needs_background": "light"
     },
     "output_type": "display_data"
    }
   ],
   "source": [
    "render_vector(movies_1byte['Moana'], 'quant_1byte.png')"
   ]
  },
  {
   "cell_type": "code",
   "execution_count": 4,
   "metadata": {},
   "outputs": [
    {
     "data": {
      "text/html": [
       "<div>\n",
       "<style scoped>\n",
       "    .dataframe tbody tr th:only-of-type {\n",
       "        vertical-align: middle;\n",
       "    }\n",
       "\n",
       "    .dataframe tbody tr th {\n",
       "        vertical-align: top;\n",
       "    }\n",
       "\n",
       "    .dataframe thead th {\n",
       "        text-align: right;\n",
       "    }\n",
       "</style>\n",
       "<table border=\"1\" class=\"dataframe\">\n",
       "  <thead>\n",
       "    <tr style=\"text-align: right;\">\n",
       "      <th></th>\n",
       "      <th>movie</th>\n",
       "      <th>similarity</th>\n",
       "    </tr>\n",
       "  </thead>\n",
       "  <tbody>\n",
       "    <tr>\n",
       "      <th>0</th>\n",
       "      <td>Moana</td>\n",
       "      <td>1.000000</td>\n",
       "    </tr>\n",
       "    <tr>\n",
       "      <th>1</th>\n",
       "      <td>Mulan</td>\n",
       "      <td>0.903532</td>\n",
       "    </tr>\n",
       "    <tr>\n",
       "      <th>2</th>\n",
       "      <td>The Little Mermaid</td>\n",
       "      <td>0.894227</td>\n",
       "    </tr>\n",
       "    <tr>\n",
       "      <th>3</th>\n",
       "      <td>Lilo &amp; Stitch</td>\n",
       "      <td>0.893718</td>\n",
       "    </tr>\n",
       "    <tr>\n",
       "      <th>4</th>\n",
       "      <td>Big Hero 6</td>\n",
       "      <td>0.890959</td>\n",
       "    </tr>\n",
       "    <tr>\n",
       "      <th>5</th>\n",
       "      <td>Monsters University</td>\n",
       "      <td>0.890915</td>\n",
       "    </tr>\n",
       "    <tr>\n",
       "      <th>6</th>\n",
       "      <td>The Princess and the Frog</td>\n",
       "      <td>0.889009</td>\n",
       "    </tr>\n",
       "    <tr>\n",
       "      <th>7</th>\n",
       "      <td>Finding Dory</td>\n",
       "      <td>0.888350</td>\n",
       "    </tr>\n",
       "    <tr>\n",
       "      <th>8</th>\n",
       "      <td>Ice Princess</td>\n",
       "      <td>0.885539</td>\n",
       "    </tr>\n",
       "    <tr>\n",
       "      <th>9</th>\n",
       "      <td>Maleficent</td>\n",
       "      <td>0.885364</td>\n",
       "    </tr>\n",
       "  </tbody>\n",
       "</table>\n",
       "</div>"
      ],
      "text/plain": [
       "                       movie  similarity\n",
       "0                      Moana    1.000000\n",
       "1                      Mulan    0.903532\n",
       "2         The Little Mermaid    0.894227\n",
       "3              Lilo & Stitch    0.893718\n",
       "4                 Big Hero 6    0.890959\n",
       "5        Monsters University    0.890915\n",
       "6  The Princess and the Frog    0.889009\n",
       "7               Finding Dory    0.888350\n",
       "8               Ice Princess    0.885539\n",
       "9                 Maleficent    0.885364"
      ]
     },
     "execution_count": 4,
     "metadata": {},
     "output_type": "execute_result"
    }
   ],
   "source": [
    "# 10 most similar movies to Moana\n",
    "import pandas as pd\n",
    "from sklearn.metrics.pairwise import cosine_similarity\n",
    "\n",
    "def most_similar(movie, movies):\n",
    "    movie_vec = movies[movie]\n",
    "    similarities = {k: cosine_similarity([movie_vec], [v])[0][0] for k, v in movies.items()}\n",
    "    closest = sorted(similarities.items(), key=lambda x: x[1], reverse=True)\n",
    "    df = pd.DataFrame(closest, columns=['movie', 'similarity'])\n",
    "    return df\n",
    "\n",
    "most_similar('Moana', movies_1byte)[:10]"
   ]
  },
  {
   "cell_type": "code",
   "execution_count": 5,
   "metadata": {},
   "outputs": [
    {
     "data": {
      "text/html": [
       "<div>\n",
       "<style scoped>\n",
       "    .dataframe tbody tr th:only-of-type {\n",
       "        vertical-align: middle;\n",
       "    }\n",
       "\n",
       "    .dataframe tbody tr th {\n",
       "        vertical-align: top;\n",
       "    }\n",
       "\n",
       "    .dataframe thead th {\n",
       "        text-align: right;\n",
       "    }\n",
       "</style>\n",
       "<table border=\"1\" class=\"dataframe\">\n",
       "  <thead>\n",
       "    <tr style=\"text-align: right;\">\n",
       "      <th></th>\n",
       "      <th>movie</th>\n",
       "      <th>similarity</th>\n",
       "    </tr>\n",
       "  </thead>\n",
       "  <tbody>\n",
       "    <tr>\n",
       "      <th>0</th>\n",
       "      <td>Moana</td>\n",
       "      <td>1.000000</td>\n",
       "    </tr>\n",
       "    <tr>\n",
       "      <th>1</th>\n",
       "      <td>Mulan</td>\n",
       "      <td>0.546800</td>\n",
       "    </tr>\n",
       "    <tr>\n",
       "      <th>2</th>\n",
       "      <td>Lilo &amp; Stitch</td>\n",
       "      <td>0.502114</td>\n",
       "    </tr>\n",
       "    <tr>\n",
       "      <th>3</th>\n",
       "      <td>The Little Mermaid</td>\n",
       "      <td>0.498209</td>\n",
       "    </tr>\n",
       "    <tr>\n",
       "      <th>4</th>\n",
       "      <td>Big Hero 6</td>\n",
       "      <td>0.491800</td>\n",
       "    </tr>\n",
       "    <tr>\n",
       "      <th>5</th>\n",
       "      <td>Monsters University</td>\n",
       "      <td>0.484857</td>\n",
       "    </tr>\n",
       "    <tr>\n",
       "      <th>6</th>\n",
       "      <td>The Princess and the Frog</td>\n",
       "      <td>0.471984</td>\n",
       "    </tr>\n",
       "    <tr>\n",
       "      <th>7</th>\n",
       "      <td>Finding Dory</td>\n",
       "      <td>0.471386</td>\n",
       "    </tr>\n",
       "    <tr>\n",
       "      <th>8</th>\n",
       "      <td>Maleficent</td>\n",
       "      <td>0.461029</td>\n",
       "    </tr>\n",
       "    <tr>\n",
       "      <th>9</th>\n",
       "      <td>Ice Princess</td>\n",
       "      <td>0.457817</td>\n",
       "    </tr>\n",
       "  </tbody>\n",
       "</table>\n",
       "</div>"
      ],
      "text/plain": [
       "                       movie  similarity\n",
       "0                      Moana    1.000000\n",
       "1                      Mulan    0.546800\n",
       "2              Lilo & Stitch    0.502114\n",
       "3         The Little Mermaid    0.498209\n",
       "4                 Big Hero 6    0.491800\n",
       "5        Monsters University    0.484857\n",
       "6  The Princess and the Frog    0.471984\n",
       "7               Finding Dory    0.471386\n",
       "8                 Maleficent    0.461029\n",
       "9               Ice Princess    0.457817"
      ]
     },
     "execution_count": 5,
     "metadata": {},
     "output_type": "execute_result"
    }
   ],
   "source": [
    "most_similar('Moana', movies)[:10]"
   ]
  },
  {
   "cell_type": "markdown",
   "metadata": {},
   "source": [
    "## Binary quantization\n",
    "\n",
    "The most extreme form of quantization is to store the embeddings as binary numbers, setting each dimension to 0 or 1, based on a threshold."
   ]
  },
  {
   "cell_type": "code",
   "execution_count": 16,
   "metadata": {},
   "outputs": [
    {
     "name": "stdout",
     "output_type": "stream",
     "text": [
      "[1, 1, 0, 1, 0, 1, 1, 1, 1, 1]\n"
     ]
    }
   ],
   "source": [
    "def binary_quantization(embeddings):\n",
    "    \"\"\"Turn a float32 into a bit based off provided threshold\"\"\"\n",
    "    \n",
    "    # find mean of all the dimensions\n",
    "    flattened_embeddings = [\n",
    "        number for embedding in embeddings for number in embedding\n",
    "    ]\n",
    "    mean_val = sum(flattened_embeddings) / len(flattened_embeddings)\n",
    "    \n",
    "    # quantize the embeddings to 1 bit\n",
    "    quantized_embeddings = [\n",
    "        [1 if number > mean_val else 0 for number in embedding]\n",
    "        for embedding in embeddings\n",
    "    ]\n",
    "    return quantized_embeddings\n",
    "\n",
    "binary_quantized_embeddings = binary_quantization(list(movies.values()))\n",
    "movies_1bit = {\n",
    "    movie: quantized_embedding\n",
    "    for movie, quantized_embedding in zip(movies.keys(), binary_quantized_embeddings)\n",
    "}\n",
    "\n",
    "# Check the first 10 bits of the quantized vector for 'Moana'\n",
    "print(movies_1bit['Moana'][0:10])"
   ]
  },
  {
   "cell_type": "code",
   "execution_count": 25,
   "metadata": {},
   "outputs": [
    {
     "data": {
      "image/png": "[encoded data removed]",
      "text/plain": [
       "<Figure size 640x300 with 1 Axes>"
      ]
     },
     "metadata": {
      "needs_background": "light"
     },
     "output_type": "display_data"
    }
   ],
   "source": [
    "render_vector(movies_1bit['Moana'], 'quant_1bit.png')"
   ]
  },
  {
   "cell_type": "code",
   "execution_count": 8,
   "metadata": {},
   "outputs": [
    {
     "data": {
      "text/html": [
       "<div>\n",
       "<style scoped>\n",
       "    .dataframe tbody tr th:only-of-type {\n",
       "        vertical-align: middle;\n",
       "    }\n",
       "\n",
       "    .dataframe tbody tr th {\n",
       "        vertical-align: top;\n",
       "    }\n",
       "\n",
       "    .dataframe thead th {\n",
       "        text-align: right;\n",
       "    }\n",
       "</style>\n",
       "<table border=\"1\" class=\"dataframe\">\n",
       "  <thead>\n",
       "    <tr style=\"text-align: right;\">\n",
       "      <th></th>\n",
       "      <th>movie</th>\n",
       "      <th>similarity</th>\n",
       "    </tr>\n",
       "  </thead>\n",
       "  <tbody>\n",
       "    <tr>\n",
       "      <th>0</th>\n",
       "      <td>Moana</td>\n",
       "      <td>1.000000</td>\n",
       "    </tr>\n",
       "    <tr>\n",
       "      <th>1</th>\n",
       "      <td>Mulan</td>\n",
       "      <td>0.686634</td>\n",
       "    </tr>\n",
       "    <tr>\n",
       "      <th>2</th>\n",
       "      <td>The Little Mermaid</td>\n",
       "      <td>0.666260</td>\n",
       "    </tr>\n",
       "    <tr>\n",
       "      <th>3</th>\n",
       "      <td>The Princess and the Frog</td>\n",
       "      <td>0.659825</td>\n",
       "    </tr>\n",
       "    <tr>\n",
       "      <th>4</th>\n",
       "      <td>Lilo &amp; Stitch</td>\n",
       "      <td>0.657599</td>\n",
       "    </tr>\n",
       "    <tr>\n",
       "      <th>5</th>\n",
       "      <td>Big Hero 6</td>\n",
       "      <td>0.655869</td>\n",
       "    </tr>\n",
       "    <tr>\n",
       "      <th>6</th>\n",
       "      <td>Ice Princess</td>\n",
       "      <td>0.648046</td>\n",
       "    </tr>\n",
       "    <tr>\n",
       "      <th>7</th>\n",
       "      <td>Finding Dory</td>\n",
       "      <td>0.643830</td>\n",
       "    </tr>\n",
       "    <tr>\n",
       "      <th>8</th>\n",
       "      <td>The Lion King</td>\n",
       "      <td>0.643088</td>\n",
       "    </tr>\n",
       "    <tr>\n",
       "      <th>9</th>\n",
       "      <td>Maleficent</td>\n",
       "      <td>0.642270</td>\n",
       "    </tr>\n",
       "  </tbody>\n",
       "</table>\n",
       "</div>"
      ],
      "text/plain": [
       "                       movie  similarity\n",
       "0                      Moana    1.000000\n",
       "1                      Mulan    0.686634\n",
       "2         The Little Mermaid    0.666260\n",
       "3  The Princess and the Frog    0.659825\n",
       "4              Lilo & Stitch    0.657599\n",
       "5                 Big Hero 6    0.655869\n",
       "6               Ice Princess    0.648046\n",
       "7               Finding Dory    0.643830\n",
       "8              The Lion King    0.643088\n",
       "9                 Maleficent    0.642270"
      ]
     },
     "execution_count": 8,
     "metadata": {},
     "output_type": "execute_result"
    }
   ],
   "source": [
    "most_similar('Moana', movies_1bit)[:10]"
   ]
  },
  {
   "cell_type": "markdown",
   "metadata": {},
   "source": [
    "## Size comparison"
   ]
  },
  {
   "cell_type": "code",
   "execution_count": 9,
   "metadata": {},
   "outputs": [
    {
     "data": {
      "text/html": [
       "<div>\n",
       "<style scoped>\n",
       "    .dataframe tbody tr th:only-of-type {\n",
       "        vertical-align: middle;\n",
       "    }\n",
       "\n",
       "    .dataframe tbody tr th {\n",
       "        vertical-align: top;\n",
       "    }\n",
       "\n",
       "    .dataframe thead th {\n",
       "        text-align: right;\n",
       "    }\n",
       "</style>\n",
       "<table border=\"1\" class=\"dataframe\">\n",
       "  <thead>\n",
       "    <tr style=\"text-align: right;\">\n",
       "      <th></th>\n",
       "      <th>float64</th>\n",
       "      <th>int8</th>\n",
       "      <th>int1</th>\n",
       "    </tr>\n",
       "  </thead>\n",
       "  <tbody>\n",
       "    <tr>\n",
       "      <th>0</th>\n",
       "      <td>12728</td>\n",
       "      <td>12728</td>\n",
       "      <td>12728</td>\n",
       "    </tr>\n",
       "  </tbody>\n",
       "</table>\n",
       "</div>"
      ],
      "text/plain": [
       "   float64   int8   int1\n",
       "0    12728  12728  12728"
      ]
     },
     "execution_count": 9,
     "metadata": {},
     "output_type": "execute_result"
    }
   ],
   "source": [
    "import sys\n",
    "\n",
    "pd.DataFrame({\n",
    "    'float64': [sys.getsizeof(movies['Moana'])],\n",
    "    'int8': [sys.getsizeof(movies_1byte['Moana'])],\n",
    "    'int1': [sys.getsizeof(movies_1bit['Moana'])],\n",
    "})"
   ]
  },
  {
   "cell_type": "code",
   "execution_count": 10,
   "metadata": {},
   "outputs": [
    {
     "data": {
      "text/html": [
       "<div>\n",
       "<style scoped>\n",
       "    .dataframe tbody tr th:only-of-type {\n",
       "        vertical-align: middle;\n",
       "    }\n",
       "\n",
       "    .dataframe tbody tr th {\n",
       "        vertical-align: top;\n",
       "    }\n",
       "\n",
       "    .dataframe thead th {\n",
       "        text-align: right;\n",
       "    }\n",
       "</style>\n",
       "<table border=\"1\" class=\"dataframe\">\n",
       "  <thead>\n",
       "    <tr style=\"text-align: right;\">\n",
       "      <th></th>\n",
       "      <th>float64</th>\n",
       "      <th>int8</th>\n",
       "      <th>int1</th>\n",
       "    </tr>\n",
       "  </thead>\n",
       "  <tbody>\n",
       "    <tr>\n",
       "      <th>0</th>\n",
       "      <td>12400</td>\n",
       "      <td>1648</td>\n",
       "      <td>1648</td>\n",
       "    </tr>\n",
       "  </tbody>\n",
       "</table>\n",
       "</div>"
      ],
      "text/plain": [
       "   float64  int8  int1\n",
       "0    12400  1648  1648"
      ]
     },
     "execution_count": 10,
     "metadata": {},
     "output_type": "execute_result"
    }
   ],
   "source": [
    "# Now convert each to numpy arrays of the appropriate type\n",
    "import numpy as np\n",
    "def convert_to_numpy(movies, dtype):\n",
    "    return {\n",
    "        movie: np.array(embedding, dtype=dtype)\n",
    "        for movie, embedding in movies.items()\n",
    "    }\n",
    "movies_float64 = convert_to_numpy(movies, np.float64)\n",
    "movies_int8 = convert_to_numpy(movies_1byte, np.int8)\n",
    "movies_int1 = convert_to_numpy(movies_1bit, np.int8)\n",
    "\n",
    "pd.DataFrame({\n",
    "    'float64': [sys.getsizeof(movies_float64['Moana'])],\n",
    "    'int8': [sys.getsizeof(movies_int8['Moana'])],\n",
    "    'int1': [sys.getsizeof(movies_int1['Moana'])],\n",
    "})"
   ]
  },
  {
   "cell_type": "code",
   "execution_count": 11,
   "metadata": {},
   "outputs": [
    {
     "data": {
      "text/plain": [
       "7.524271844660194"
      ]
     },
     "execution_count": 11,
     "metadata": {},
     "output_type": "execute_result"
    }
   ],
   "source": [
    "sys.getsizeof(movies_float64['Moana'])/sys.getsizeof(movies_int8['Moana'])"
   ]
  },
  {
   "cell_type": "markdown",
   "metadata": {},
   "source": [
    "## Resources\n",
    "\n",
    "* [Scalar quantization 101](https://www.elastic.co/search-labs/blog/scalar-quantization-101)\n",
    "* [Product quantization 101](https://www.pinecone.io/learn/series/faiss/product-quantization/)\n",
    "* [Binary and scalar quantization](https://huggingface.co/blog/embedding-quantization)"
   ]
  }
 ],
 "metadata": {
  "kernelspec": {
   "display_name": ".venv (3.11.9)",
   "language": "python",
   "name": "python3"
  },
  "language_info": {
   "codemirror_mode": {
    "name": "ipython",
    "version": 3
   },
   "file_extension": ".py",
   "mimetype": "text/x-python",
   "name": "python",
   "nbconvert_exporter": "python",
   "pygments_lexer": "ipython3",
   "version": "3.11.9"
  }
 },
 "nbformat": 4,
 "nbformat_minor": 2
}
