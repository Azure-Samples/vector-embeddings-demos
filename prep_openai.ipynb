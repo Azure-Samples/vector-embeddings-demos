{
 "cells": [
  {
   "cell_type": "markdown",
   "metadata": {},
   "source": [
    "# Prep OpenAI embeddings\n",
    "\n",
    "This notebook uses OpenAI models to generate embeddings for a set of common English words. "
   ]
  },
  {
   "cell_type": "code",
   "execution_count": 1,
   "metadata": {},
   "outputs": [],
   "source": [
    "import os\n",
    "\n",
    "from azure.identity import DefaultAzureCredential, get_bearer_token_provider\n",
    "from dotenv import load_dotenv\n",
    "from openai import OpenAI\n",
    "\n",
    "load_dotenv()\n",
    "\n",
    "azure_credential = DefaultAzureCredential()\n",
    "token_provider = get_bearer_token_provider(azure_credential, \"https://cognitiveservices.azure.com/.default\")\n",
    "openai_client = OpenAI(\n",
    "    base_url=os.environ[\"AZURE_OPENAI_ENDPOINT\"] + \"/openai/v1/\",\n",
    "    api_key=token_provider,\n",
    ")\n",
    "MODEL_NAME = os.environ[\"AZURE_OPENAI_EMBEDDING_DEPLOYMENT\"]\n",
    "MODEL_DIMENSIONS = int(os.environ[\"AZURE_OPENAI_EMBEDDING_DIMENSIONS\"])\n",
    "\n",
    "def get_embeddings(words):\n",
    "    \"\"\"Calculate embeddings using OpenAI in a batch (all words at once)\"\"\"\n",
    "    word_vectors = {}\n",
    "\n",
    "    embeddings_response = openai_client.embeddings.create(\n",
    "        model=MODEL_NAME,\n",
    "        input=words,\n",
    "        dimensions=MODEL_DIMENSIONS,\n",
    "    )\n",
    "    for word, embedding_object in zip(words, embeddings_response.data):\n",
    "        word_vectors[word] = embedding_object.embedding\n",
    "    return word_vectors"
   ]
  },
  {
   "cell_type": "code",
   "execution_count": null,
   "metadata": {},
   "outputs": [
    {
     "data": {
      "application/vnd.jupyter.widget-view+json": {
       "model_id": "0b8171139e1c414da83510dbcc7afb5b",
       "version_major": 2,
       "version_minor": 0
      },
      "text/plain": [
       "Computing new embeddings:   0%|          | 0/573 [00:00<?, ?it/s]"
      ]
     },
     "metadata": {},
     "output_type": "display_data"
    }
   ],
   "source": [
    "# Open openai_movies.json, which is a dict of movie titles to movie embeddings\n",
    "# And compute new embeddings\n",
    "import json\n",
    "\n",
    "from tqdm.notebook import tqdm\n",
    "\n",
    "new_movie_vectors = {}\n",
    "with open(\"embeddings/movies_text-embedding-ada-002.json\") as f:\n",
    "    disney_vectors = json.load(f)\n",
    "    for movie, embedding in tqdm(disney_vectors.items(), desc=\"Computing new embeddings\"):\n",
    "        new_movie_vectors[movie] = get_embeddings([movie])[movie]\n",
    "# Write new embeddings to openai_movies\n",
    "filename = f\"openai_movies_{MODEL_NAME}-{MODEL_DIMENSIONS}.json\"\n",
    "with open(filename, \"w\") as f:\n",
    "    json.dump(new_movie_vectors, f, indent=4)"
   ]
  },
  {
   "cell_type": "code",
   "execution_count": 3,
   "metadata": {},
   "outputs": [],
   "source": [
    "import csv\n",
    "import json\n",
    "\n",
    "# Open most-common-nouns-english.csv and read the first column as words\n",
    "words = []\n",
    "with open('embeddings/most-common-nouns-english.csv') as f:\n",
    "    reader = csv.reader(f)\n",
    "    next(reader)\n",
    "    for row in reader:\n",
    "        words.append(row[0])\n",
    "\n",
    "# Calculate embeddings for all words\n",
    "word_vectors = get_embeddings(words)\n",
    "\n",
    "# Save embeddings to a file\n",
    "filename = f\"embeddings/words_{MODEL_NAME}-{MODEL_DIMENSIONS}.json\"\n",
    "\n",
    "with open(filename, 'w') as f:\n",
    "    json.dump(word_vectors, f, indent=4)\n"
   ]
  }
 ],
 "metadata": {
  "kernelspec": {
   "display_name": ".venv",
   "language": "python",
   "name": "python3"
  },
  "language_info": {
   "codemirror_mode": {
    "name": "ipython",
    "version": 3
   },
   "file_extension": ".py",
   "mimetype": "text/x-python",
   "name": "python",
   "nbconvert_exporter": "python",
   "pygments_lexer": "ipython3",
   "version": "3.11.9"
  }
 },
 "nbformat": 4,
 "nbformat_minor": 2
}
