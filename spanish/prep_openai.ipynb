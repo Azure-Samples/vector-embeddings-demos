{
 "cells": [
  {
   "cell_type": "markdown",
   "metadata": {},
   "source": [
    "# Preparar embeddings de OpenAI\n",
    "\n",
    "Este notebook utiliza modelos de OpenAI para generar embeddings para un conjunto de palabras comunes en español."
   ]
  },
  {
   "cell_type": "code",
   "execution_count": 2,
   "metadata": {},
   "outputs": [],
   "source": [
    "import os\n",
    "\n",
    "from azure.identity import DefaultAzureCredential, get_bearer_token_provider\n",
    "from dotenv import load_dotenv\n",
    "from openai import OpenAI\n",
    "\n",
    "load_dotenv()\n",
    "\n",
    "azure_credential = DefaultAzureCredential()\n",
    "token_provider = get_bearer_token_provider(azure_credential, \"https://cognitiveservices.azure.com/.default\")\n",
    "openai_client = OpenAI(\n",
    "    base_url=os.environ[\"AZURE_OPENAI_ENDPOINT\"] + \"/openai/v1/\",\n",
    "    api_key=token_provider,\n",
    ")\n",
    "MODEL_NAME = os.environ[\"AZURE_OPENAI_EMBEDDING_DEPLOYMENT\"]\n",
    "MODEL_DIMENSIONS = int(os.environ[\"AZURE_OPENAI_EMBEDDING_DIMENSIONS\"])\n",
    "\n",
    "def get_embeddings(words):\n",
    "    \"\"\"Calcular embeddings para una lista de palabras usando OpenAI API.\"\"\"\n",
    "    word_vectors = {}\n",
    "\n",
    "    embeddings_response = openai_client.embeddings.create(\n",
    "        model=MODEL_NAME,\n",
    "        input=words,\n",
    "        dimensions=MODEL_DIMENSIONS,\n",
    "    )\n",
    "    for word, embedding_object in zip(words, embeddings_response.data):\n",
    "        word_vectors[word] = embedding_object.embedding\n",
    "    return word_vectors"
   ]
  },
  {
   "cell_type": "code",
   "execution_count": 3,
   "metadata": {},
   "outputs": [
    {
     "data": {
      "application/vnd.jupyter.widget-view+json": {
       "model_id": "1c40bba4f7e04927a137b633e3e2970d",
       "version_major": 2,
       "version_minor": 0
      },
      "text/plain": [
       "Computing new embeddings:   0%|          | 0/62 [00:00<?, ?it/s]"
      ]
     },
     "metadata": {},
     "output_type": "display_data"
    }
   ],
   "source": [
    "# abrimos el archivo de peliculas\n",
    "# calculamos embeddings de las peliculas\n",
    "import json\n",
    "\n",
    "from tqdm.notebook import tqdm\n",
    "\n",
    "new_movie_vectors = {}\n",
    "with open(\"embeddings/peliculas_text-embedding-ada-002.json\") as f:\n",
    "    disney_vectors = json.load(f)\n",
    "    for movie, embedding in tqdm(disney_vectors.items(), desc=\"Computing new embeddings\"):\n",
    "        new_movie_vectors[movie] = get_embeddings([movie])[movie]\n",
    "# Write new embeddings to openai_movies\n",
    "filename = f\"embeddings/openai_peliculas_{MODEL_NAME}-{MODEL_DIMENSIONS}.json\"\n",
    "with open(filename, \"w\") as f:\n",
    "    json.dump(new_movie_vectors, f, indent=4)"
   ]
  },
  {
   "cell_type": "code",
   "execution_count": null,
   "metadata": {},
   "outputs": [],
   "source": [
    "import csv\n",
    "\n",
    "# abrimos sustantivos csv\n",
    "words = []\n",
    "with open('embeddings/sustantivos-mas-usados.csv') as f:\n",
    "    reader = csv.reader(f)\n",
    "    next(reader)\n",
    "    for row in reader:\n",
    "        words.append(row[0])\n",
    "\n",
    "# y calculamos embeddings\n",
    "word_vectors = get_embeddings(words)\n",
    "\n",
    "# guardamos los embeddings en un archivo\n",
    "filename = f\"embeddings/sustantivos2_{MODEL_NAME}-{MODEL_DIMENSIONS}.json\"\n",
    "\n",
    "with open(filename, 'w') as f:\n",
    "    json.dump(word_vectors, f, indent=4)\n"
   ]
  }
 ],
 "metadata": {
  "kernelspec": {
   "display_name": ".venv (3.11.9)",
   "language": "python",
   "name": "python3"
  },
  "language_info": {
   "codemirror_mode": {
    "name": "ipython",
    "version": 3
   },
   "file_extension": ".py",
   "mimetype": "text/x-python",
   "name": "python",
   "nbconvert_exporter": "python",
   "pygments_lexer": "ipython3",
   "version": "3.12.10"
  }
 },
 "nbformat": 4,
 "nbformat_minor": 2
}
