{
 "cells": [
  {
   "cell_type": "markdown",
   "metadata": {},
   "source": [
    "## Vector dimension reduction\n",
    "\n",
    "When an embedding model supports MRL (Matryoshka Representation Learning), we can use it to reduce the dimensionality of the vectors. For large vector indexes, this can help to speed up search and reduce storage costs."
   ]
  },
  {
   "cell_type": "code",
   "execution_count": null,
   "metadata": {},
   "outputs": [
    {
     "name": "stdout",
     "output_type": "stream",
     "text": [
      "1536\n",
      "[0.03265173360705376, 0.01370371412485838, -0.017748944461345673, 0.024719391018152237, -0.010317315347492695]\n",
      "256\n",
      "[0.06316128373146057, 0.02650836855173111, -0.03433343395590782, 0.04781701788306236, -0.01995774172246456]\n"
     ]
    }
   ],
   "source": [
    "# Load in the vectors from movies.json, {movie: [vector]}\n",
    "import json\n",
    "\n",
    "with open('embeddings/movies_text-embedding-3-small-1536.json') as f:\n",
    "    movies_1536 = json.load(f)\n",
    "\n",
    "with open('embeddings/movies_text-embedding-3-small-256.json') as f:\n",
    "    movies_256t = json.load(f)\n",
    "\n",
    "movie_title = \"Moana\"\n",
    "print(len(movies_1536[movie_title]))\n",
    "print(movies_1536[movie_title][0:5])\n",
    "\n",
    "print(len(movies_256t[movie_title]))\n",
    "print(movies_256t[movie_title][0:5])"
   ]
  },
  {
   "cell_type": "code",
   "execution_count": 12,
   "metadata": {},
   "outputs": [
    {
     "data": {
      "image/png": "[encoded data removed]",
      "text/plain": [
       "<Figure size 640x300 with 1 Axes>"
      ]
     },
     "metadata": {
      "needs_background": "light"
     },
     "output_type": "display_data"
    },
    {
     "data": {
      "image/png": "[encoded data removed]",
      "text/plain": [
       "<Figure size 640x300 with 1 Axes>"
      ]
     },
     "metadata": {
      "needs_background": "light"
     },
     "output_type": "display_data"
    }
   ],
   "source": [
    "import matplotlib.pyplot as plt\n",
    "\n",
    "def render_vector(vector, filename):\n",
    "    \"\"\"Visualize the values of the vector in a bar chart\"\"\"\n",
    "    fig = plt.figure()\n",
    "    ax = fig.add_subplot(111)\n",
    "    # Set the face color of the axis (plot area) to light gray\n",
    "    ax.set_facecolor('#ffe7f0')\n",
    "    # Make sure the figure face color is transparent\n",
    "    fig.patch.set_alpha(0.0)\n",
    "    ax.bar(range(len(vector)), vector, color='#ff1c71')  # Set bar color to purple\n",
    "    ax.set_xlabel('Dimension', fontweight='bold')  # Make x-axis label bold\n",
    "    ax.set_ylabel('Value', fontweight='bold')  # Make y-axis label bold\n",
    "    # Adjust the height of the graph\n",
    "    fig.set_size_inches(fig.get_size_inches()[0], 3)\n",
    "    plt.show()\n",
    "    fig.savefig(filename, transparent=False, dpi=300, bbox_inches='tight')\n",
    "\n",
    "\n",
    "render_vector(movies_1536['Moana'], \"reduction_none.png\")\n",
    "render_vector(movies_256t['Moana'], \"reduction_256.png\")"
   ]
  },
  {
   "cell_type": "markdown",
   "metadata": {},
   "source": [
    "## Effect on similarity space"
   ]
  },
  {
   "cell_type": "code",
   "execution_count": 5,
   "metadata": {},
   "outputs": [
    {
     "data": {
      "text/html": [
       "<div>\n",
       "<style scoped>\n",
       "    .dataframe tbody tr th:only-of-type {\n",
       "        vertical-align: middle;\n",
       "    }\n",
       "\n",
       "    .dataframe tbody tr th {\n",
       "        vertical-align: top;\n",
       "    }\n",
       "\n",
       "    .dataframe thead th {\n",
       "        text-align: right;\n",
       "    }\n",
       "</style>\n",
       "<table border=\"1\" class=\"dataframe\">\n",
       "  <thead>\n",
       "    <tr style=\"text-align: right;\">\n",
       "      <th></th>\n",
       "      <th>movie</th>\n",
       "      <th>similarity</th>\n",
       "    </tr>\n",
       "  </thead>\n",
       "  <tbody>\n",
       "    <tr>\n",
       "      <th>0</th>\n",
       "      <td>Moana</td>\n",
       "      <td>1.000000</td>\n",
       "    </tr>\n",
       "    <tr>\n",
       "      <th>1</th>\n",
       "      <td>Mulan</td>\n",
       "      <td>0.546800</td>\n",
       "    </tr>\n",
       "    <tr>\n",
       "      <th>2</th>\n",
       "      <td>Lilo &amp; Stitch</td>\n",
       "      <td>0.502114</td>\n",
       "    </tr>\n",
       "    <tr>\n",
       "      <th>3</th>\n",
       "      <td>The Little Mermaid</td>\n",
       "      <td>0.498209</td>\n",
       "    </tr>\n",
       "    <tr>\n",
       "      <th>4</th>\n",
       "      <td>Big Hero 6</td>\n",
       "      <td>0.491800</td>\n",
       "    </tr>\n",
       "    <tr>\n",
       "      <th>5</th>\n",
       "      <td>Monsters University</td>\n",
       "      <td>0.484857</td>\n",
       "    </tr>\n",
       "    <tr>\n",
       "      <th>6</th>\n",
       "      <td>The Princess and the Frog</td>\n",
       "      <td>0.471984</td>\n",
       "    </tr>\n",
       "    <tr>\n",
       "      <th>7</th>\n",
       "      <td>Finding Dory</td>\n",
       "      <td>0.471386</td>\n",
       "    </tr>\n",
       "    <tr>\n",
       "      <th>8</th>\n",
       "      <td>Maleficent</td>\n",
       "      <td>0.461029</td>\n",
       "    </tr>\n",
       "    <tr>\n",
       "      <th>9</th>\n",
       "      <td>Ice Princess</td>\n",
       "      <td>0.457817</td>\n",
       "    </tr>\n",
       "  </tbody>\n",
       "</table>\n",
       "</div>"
      ],
      "text/plain": [
       "                       movie  similarity\n",
       "0                      Moana    1.000000\n",
       "1                      Mulan    0.546800\n",
       "2              Lilo & Stitch    0.502114\n",
       "3         The Little Mermaid    0.498209\n",
       "4                 Big Hero 6    0.491800\n",
       "5        Monsters University    0.484857\n",
       "6  The Princess and the Frog    0.471984\n",
       "7               Finding Dory    0.471386\n",
       "8                 Maleficent    0.461029\n",
       "9               Ice Princess    0.457817"
      ]
     },
     "execution_count": 5,
     "metadata": {},
     "output_type": "execute_result"
    }
   ],
   "source": [
    "# 10 most similar movies\n",
    "import pandas as pd\n",
    "from sklearn.metrics.pairwise import cosine_similarity\n",
    "\n",
    "def most_similar(movie, movies):\n",
    "    movie_vec = movies[movie]\n",
    "    similarities = {k: cosine_similarity([movie_vec], [v])[0][0] for k, v in movies.items()}\n",
    "    closest = sorted(similarities.items(), key=lambda x: x[1], reverse=True)\n",
    "    df = pd.DataFrame(closest, columns=['movie', 'similarity'])\n",
    "    return df\n",
    "\n",
    "most_similar('Moana', movies_1536)[:10]"
   ]
  },
  {
   "cell_type": "code",
   "execution_count": 6,
   "metadata": {},
   "outputs": [
    {
     "data": {
      "text/html": [
       "<div>\n",
       "<style scoped>\n",
       "    .dataframe tbody tr th:only-of-type {\n",
       "        vertical-align: middle;\n",
       "    }\n",
       "\n",
       "    .dataframe tbody tr th {\n",
       "        vertical-align: top;\n",
       "    }\n",
       "\n",
       "    .dataframe thead th {\n",
       "        text-align: right;\n",
       "    }\n",
       "</style>\n",
       "<table border=\"1\" class=\"dataframe\">\n",
       "  <thead>\n",
       "    <tr style=\"text-align: right;\">\n",
       "      <th></th>\n",
       "      <th>movie</th>\n",
       "      <th>similarity</th>\n",
       "    </tr>\n",
       "  </thead>\n",
       "  <tbody>\n",
       "    <tr>\n",
       "      <th>0</th>\n",
       "      <td>Moana</td>\n",
       "      <td>1.000000</td>\n",
       "    </tr>\n",
       "    <tr>\n",
       "      <th>1</th>\n",
       "      <td>The Little Mermaid</td>\n",
       "      <td>0.587367</td>\n",
       "    </tr>\n",
       "    <tr>\n",
       "      <th>2</th>\n",
       "      <td>Mulan</td>\n",
       "      <td>0.583428</td>\n",
       "    </tr>\n",
       "    <tr>\n",
       "      <th>3</th>\n",
       "      <td>Lilo &amp; Stitch</td>\n",
       "      <td>0.575990</td>\n",
       "    </tr>\n",
       "    <tr>\n",
       "      <th>4</th>\n",
       "      <td>Big Hero 6</td>\n",
       "      <td>0.574590</td>\n",
       "    </tr>\n",
       "    <tr>\n",
       "      <th>5</th>\n",
       "      <td>The Princess and the Frog</td>\n",
       "      <td>0.568726</td>\n",
       "    </tr>\n",
       "    <tr>\n",
       "      <th>6</th>\n",
       "      <td>Finding Dory</td>\n",
       "      <td>0.549391</td>\n",
       "    </tr>\n",
       "    <tr>\n",
       "      <th>7</th>\n",
       "      <td>The Lion King</td>\n",
       "      <td>0.521125</td>\n",
       "    </tr>\n",
       "    <tr>\n",
       "      <th>8</th>\n",
       "      <td>Tangled</td>\n",
       "      <td>0.513131</td>\n",
       "    </tr>\n",
       "    <tr>\n",
       "      <th>9</th>\n",
       "      <td>Maleficent</td>\n",
       "      <td>0.511412</td>\n",
       "    </tr>\n",
       "  </tbody>\n",
       "</table>\n",
       "</div>"
      ],
      "text/plain": [
       "                       movie  similarity\n",
       "0                      Moana    1.000000\n",
       "1         The Little Mermaid    0.587367\n",
       "2                      Mulan    0.583428\n",
       "3              Lilo & Stitch    0.575990\n",
       "4                 Big Hero 6    0.574590\n",
       "5  The Princess and the Frog    0.568726\n",
       "6               Finding Dory    0.549391\n",
       "7              The Lion King    0.521125\n",
       "8                    Tangled    0.513131\n",
       "9                 Maleficent    0.511412"
      ]
     },
     "execution_count": 6,
     "metadata": {},
     "output_type": "execute_result"
    }
   ],
   "source": [
    "most_similar('Moana', movies_256t)[:10]"
   ]
  },
  {
   "cell_type": "markdown",
   "metadata": {},
   "source": [
    "## Size comparison"
   ]
  },
  {
   "cell_type": "code",
   "execution_count": 7,
   "metadata": {},
   "outputs": [
    {
     "data": {
      "text/html": [
       "<div>\n",
       "<style scoped>\n",
       "    .dataframe tbody tr th:only-of-type {\n",
       "        vertical-align: middle;\n",
       "    }\n",
       "\n",
       "    .dataframe tbody tr th {\n",
       "        vertical-align: top;\n",
       "    }\n",
       "\n",
       "    .dataframe thead th {\n",
       "        text-align: right;\n",
       "    }\n",
       "</style>\n",
       "<table border=\"1\" class=\"dataframe\">\n",
       "  <thead>\n",
       "    <tr style=\"text-align: right;\">\n",
       "      <th></th>\n",
       "      <th>1536</th>\n",
       "      <th>256</th>\n",
       "    </tr>\n",
       "  </thead>\n",
       "  <tbody>\n",
       "    <tr>\n",
       "      <th>0</th>\n",
       "      <td>12728</td>\n",
       "      <td>2200</td>\n",
       "    </tr>\n",
       "  </tbody>\n",
       "</table>\n",
       "</div>"
      ],
      "text/plain": [
       "    1536   256\n",
       "0  12728  2200"
      ]
     },
     "execution_count": 7,
     "metadata": {},
     "output_type": "execute_result"
    }
   ],
   "source": [
    "import sys\n",
    "\n",
    "pd.DataFrame({\n",
    "    '1536': [sys.getsizeof(movies_1536['Moana'])],\n",
    "    '256': [sys.getsizeof(movies_256t['Moana'])],\n",
    "})"
   ]
  },
  {
   "cell_type": "code",
   "execution_count": 8,
   "metadata": {},
   "outputs": [
    {
     "data": {
      "text/plain": [
       "5.785454545454545"
      ]
     },
     "execution_count": 8,
     "metadata": {},
     "output_type": "execute_result"
    }
   ],
   "source": [
    "sys.getsizeof(movies_1536['Moana'])/sys.getsizeof(movies_256t['Moana'])"
   ]
  },
  {
   "cell_type": "markdown",
   "metadata": {},
   "source": [
    "## Resources\n",
    "\n",
    "* [Unboxing Nomic Embed v1.5: Resizable Production Embeddings with MRL](https://www.nomic.ai/blog/posts/nomic-embed-matryoshka)\n",
    "* [MRL from the Ground Up](https://aniketrege.github.io/blog/2024/mrl/)\n"
   ]
  }
 ],
 "metadata": {
  "kernelspec": {
   "display_name": ".venv (3.11.9)",
   "language": "python",
   "name": "python3"
  },
  "language_info": {
   "codemirror_mode": {
    "name": "ipython",
    "version": 3
   },
   "file_extension": ".py",
   "mimetype": "text/x-python",
   "name": "python",
   "nbconvert_exporter": "python",
   "pygments_lexer": "ipython3",
   "version": "3.11.9"
  }
 },
 "nbformat": 4,
 "nbformat_minor": 2
}
